{
 "cells": [
  {
   "cell_type": "code",
   "execution_count": 1,
   "id": "3c100428-0c6d-4900-a753-100d6497ac88",
   "metadata": {},
   "outputs": [],
   "source": [
    "import os\n",
    "import pandas as pd\n",
    "import numpy as np\n",
    "import seaborn as sns\n",
    "import matplotlib.pyplot as plt\n",
    "\n",
    "## Big plt Size\n",
    "# sns.reset_defaults()\n",
    "# Small plt Size\n",
    "sns.reset_orig()\n",
    "\n",
    "sns.set_style('whitegrid', {'grid.linestyle': '--'})"
   ]
  },
  {
   "cell_type": "markdown",
   "id": "66a5ddde-703a-4b0f-8238-c095e17cbe69",
   "metadata": {},
   "source": [
    "# Data Volume Before & After Preprocessing"
   ]
  },
  {
   "cell_type": "code",
   "execution_count": 2,
   "id": "131b10ff-c81f-4435-87be-7f9ef21244e4",
   "metadata": {},
   "outputs": [],
   "source": [
    "# Be sure to change the path to absolute path of your directory if you re-run, or restart the kernel instead.\n",
    "os.chdir('../dataset/txt')\n",
    "# locate the original data containing only positives and negatives\n",
    "base1 = 'prastyo-sentiment_posneg.txt'\n",
    "LB = pd.read_csv(base1, header=None, sep='\\t', names=['text', 'label'], usecols=['label'], dtype=str)\n",
    "\n",
    "os.chdir('../../output')\n",
    "# preprocessed data\n",
    "base2 = 'prastyo-sentiment_posneg-clean-slang-stop-dup.txt'\n",
    "Lb = pd.read_csv(base2, header=None, sep='\\t', names=['text', 'label'], usecols=['label'], dtype=str)"
   ]
  },
  {
   "cell_type": "code",
   "execution_count": 3,
   "id": "41b6102c-eac9-4c35-9980-604dce187f2b",
   "metadata": {},
   "outputs": [
    {
     "name": "stdout",
     "output_type": "stream",
     "text": [
      "1918\n",
      "1660\n"
     ]
    }
   ],
   "source": [
    "print(len(LB))\n",
    "print(len(Lb))"
   ]
  },
  {
   "cell_type": "code",
   "execution_count": 4,
   "id": "f046997d-0832-47df-8acb-7140e18b8794",
   "metadata": {},
   "outputs": [
    {
     "data": {
      "image/png": "[encoded data removed]",
      "text/plain": [
       "<Figure size 432x288 with 1 Axes>"
      ]
     },
     "metadata": {},
     "output_type": "display_data"
    }
   ],
   "source": [
    "vol = [['Before Preprocessing', len(LB)],\n",
    "       ['After Preprocessing', len(Lb)]]\n",
    "\n",
    "df = pd.DataFrame(vol, columns=['dt_type', 'dt_vol'])\n",
    "\n",
    "sns.set_palette('PuBu',2)\n",
    "ax = sns.barplot(data=df.reset_index(), x='dt_type', y='dt_vol')\n",
    "ax.set_ylabel('Volume')\n",
    "ax.set_xlabel('')\n",
    "ax.yaxis.set_ticks(np.arange(0, 2100, 200))\n",
    "\n",
    "# plt.savefig('plot1-data_volume.png')\n",
    "plt.show()"
   ]
  },
  {
   "cell_type": "code",
   "execution_count": null,
   "id": "ec652e50-c5eb-40b0-9ea6-6db73654247f",
   "metadata": {},
   "outputs": [],
   "source": []
  },
  {
   "cell_type": "markdown",
   "id": "6b415160-3902-4ab2-bcaa-e0cde7fd1bf8",
   "metadata": {},
   "source": [
    "# Negatives & Positives Distribution"
   ]
  },
  {
   "cell_type": "code",
   "execution_count": 5,
   "id": "083e520f-3443-42e6-acfc-c3883650e0cd",
   "metadata": {},
   "outputs": [],
   "source": [
    "lb_actual = 'prastyo-sentiment_posneg-clean-slang-stop-dup.txt'\n",
    "lb_inset = 'prastyo-sentiment_posneg-clean-slang-stop-lb-inset.txt'\n",
    "lb_senti = 'prastyo-sentiment_posneg-clean-slang-stop-lb-senti.txt'\n",
    "\n",
    "x0 = pd.read_csv(lb_actual, header=None, sep='\\t', names=['text', 'label'], usecols=['label'])\n",
    "x1 = pd.read_csv(lb_inset, header=None, names=['label'])\n",
    "x2 = pd.read_csv(lb_senti, header=None, names=['label'])\n",
    "\n",
    "# x0 = x0['label'].to_list()\n",
    "# x1 = x1['label'].to_list()\n",
    "# x3 = x3['label'].to_list()\n",
    "# df = pd.DataFrame({'Actual Label': x1,\n",
    "#                    'InSet': x2,\n",
    "#                    'sentistrength_id': x3})\n",
    "#\n",
    "df = pd.DataFrame()\n",
    "df.insert(0, 'Actual Label', x0['label'])\n",
    "df.insert(1, 'InSet', x1['label'])\n",
    "df.insert(2, 'sentistrength_id', x2['label'])\n",
    "#\n",
    "# print(df)"
   ]
  },
  {
   "cell_type": "code",
   "execution_count": 6,
   "id": "27e56ecf-20a6-4160-8721-2c2b1aa1bf09",
   "metadata": {},
   "outputs": [
    {
     "name": "stdout",
     "output_type": "stream",
     "text": [
      "negatives: 900 , positives: 760 , total: 1660 \t| actual\n",
      "negatives: 1197 , positives: 463 , total: 1660 \t| inSet\n",
      "negatives: 1114 , positives: 546 , total: 1660 \t| senti\n"
     ]
    }
   ],
   "source": [
    "neg0 = df['Actual Label'].str.count('neg').sum()\n",
    "pos0 = df['Actual Label'].str.count('pos').sum()\n",
    "sum0 = neg0+pos0\n",
    "\n",
    "neg1 = df['InSet'].str.count('neg').sum()\n",
    "pos1 = df['InSet'].str.count('pos').sum()\n",
    "sum1 = neg1+pos1\n",
    "\n",
    "neg2 = df['sentistrength_id'].str.count('neg').sum()\n",
    "pos2 = df['sentistrength_id'].str.count('pos').sum()\n",
    "sum2 = neg2+pos2\n",
    "\n",
    "print('negatives:',neg0,', positives:',pos0,', total:',sum0, '\\t| actual')\n",
    "print('negatives:',neg1,', positives:',pos1,', total:',sum1, '\\t| inSet')\n",
    "print('negatives:',neg2,', positives:',pos2,', total:',sum2, '\\t| senti')"
   ]
  },
  {
   "cell_type": "code",
   "execution_count": 7,
   "id": "a1e6f071-d2fc-42f0-ad1a-6f120dca376f",
   "metadata": {},
   "outputs": [
    {
     "data": {
      "image/png": "[encoded data removed]",
      "text/plain": [
       "<Figure size 432x288 with 1 Axes>"
      ]
     },
     "metadata": {},
     "output_type": "display_data"
    }
   ],
   "source": [
    "sns.set_palette('Blues_r', 2)\n",
    "ax = sns.countplot(x='variable', hue='value', data=pd.melt(df))\n",
    "\n",
    "ax.set_ylabel('Volume')\n",
    "ax.set_xlabel('')\n",
    "ax.legend().set_title('')\n",
    "ax.yaxis.set_ticks(np.arange(0, 1300, 200))\n",
    "lgd = ax.legend(['Negatives', 'Positives'], loc='lower center', bbox_to_anchor=(0.5,-0.2), borderaxespad=0., ncol=2)\n",
    "\n",
    "## *Note: bbox_extra_artists must be an iterable\n",
    "# plt.savefig('plot2-label_class_distribution.png', bbox_extra_artists=(lgd,), bbox_inches='tight')\n",
    "plt.show()"
   ]
  },
  {
   "cell_type": "code",
   "execution_count": null,
   "id": "34adc972-4798-47eb-a211-4a71a8322ffa",
   "metadata": {},
   "outputs": [],
   "source": []
  },
  {
   "cell_type": "markdown",
   "id": "f98ac060-17a1-490b-aefe-93d937c0de67",
   "metadata": {},
   "source": [
    "# Accuration Score for *imbalanced* data\n",
    "> for Each **Label** and each following **Extraction Feature** method"
   ]
  },
  {
   "cell_type": "code",
   "execution_count": 8,
   "id": "a338c656-e733-48b4-ae4e-a71857d35dc9",
   "metadata": {},
   "outputs": [
    {
     "name": "stdout",
     "output_type": "stream",
     "text": [
      "[78.5140562248996, 76.90763052208835, 78.714859437751]\n",
      "[60.44176706827309, 59.63855421686747, 62.65060240963856]\n",
      "[60.44176706827309, 59.63855421686747, 64.45783132530121]\n"
     ]
    }
   ],
   "source": [
    "# os.getcwd()\n",
    "data0 = pd.read_csv('svm_acc_lb0.txt', header=None, names=['acc'])\n",
    "data0 = data0['acc'].to_list()\n",
    "print(data0)\n",
    "data1 = pd.read_csv('svm_acc_lb1.txt', header=None, names=['acc'])\n",
    "data1 = data1['acc'].to_list()\n",
    "print(data1)\n",
    "data2 = pd.read_csv('svm_acc_lb2.txt', header=None, names=['acc'])\n",
    "data2 = data2['acc'].to_list()\n",
    "print(data2)"
   ]
  },
  {
   "cell_type": "code",
   "execution_count": 9,
   "id": "37bf7501-ad44-42b4-a742-731c76ea6f16",
   "metadata": {},
   "outputs": [
    {
     "data": {
      "image/png": "[encoded data removed]",
      "text/plain": [
       "<Figure size 432x288 with 1 Axes>"
      ]
     },
     "metadata": {},
     "output_type": "display_data"
    }
   ],
   "source": [
    "# label name, acc_term-presence, acc_bow, acc_tfidf\n",
    "data = [['Actual Label', data0[0], data0[1], data0[2]],\n",
    "        ['InSet', data1[0], data1[1], data1[2]],\n",
    "        ['sentistrength_id', data2[0], data2[1], data2[2]]]\n",
    "\n",
    "df2 = pd.DataFrame(data, columns=['', 'term presence', 'BoW', 'TF-IDF'])\n",
    "# print(df2)\n",
    "\n",
    "# plot multiple columns from dataframe\n",
    "sns.set_palette('inferno_r')\n",
    "ax = df2.plot(x='', y=['term presence', 'BoW', 'TF-IDF'], kind='bar')\n",
    "ax.set_ylabel('Accuracy (%)')\n",
    "\n",
    "ax.yaxis.set_ticks(np.arange(0, 110, 5))\n",
    "lgd = ax.legend(loc='lower center', bbox_to_anchor=(0.5,-0.2), borderaxespad=0., ncol=3)\n",
    "plt.xticks(rotation=0, ha='center')\n",
    "\n",
    "## *Note: bbox_extra_artists must be an iterable\n",
    "# plt.savefig('plot3-SVM_accuracy_score.png', bbox_extra_artists=(lgd,), bbox_inches='tight')\n",
    "plt.show()"
   ]
  },
  {
   "cell_type": "code",
   "execution_count": null,
   "id": "7c4e5463-8cbe-4bd2-b199-92eae204b1b8",
   "metadata": {},
   "outputs": [],
   "source": []
  },
  {
   "cell_type": "markdown",
   "id": "74baa108-91b6-4ca3-8f88-f2b027b317bc",
   "metadata": {},
   "source": [
    "# Accuration Score for *oversampled* data\n",
    "> for Each **Label** and each following **Extraction Feature** method"
   ]
  },
  {
   "cell_type": "code",
   "execution_count": 10,
   "id": "6ac4e5df-7dad-41ea-9320-bd7b519c43cd",
   "metadata": {},
   "outputs": [
    {
     "name": "stdout",
     "output_type": "stream",
     "text": [
      "[75.50200803212851, 76.10441767068274, 79.71887550200803]\n",
      "[56.024096385542165, 55.42168674698795, 62.048192771084345]\n",
      "[52.40963855421686, 52.610441767068274, 62.048192771084345]\n"
     ]
    }
   ],
   "source": [
    "# os.getcwd()\n",
    "data0 = pd.read_csv('svm_acc_o_lb0.txt', header=None, names=['acc'])\n",
    "data0 = data0['acc'].to_list()\n",
    "print(data0)\n",
    "data1 = pd.read_csv('svm_acc_o_lb1.txt', header=None, names=['acc'])\n",
    "data1 = data1['acc'].to_list()\n",
    "print(data1)\n",
    "data2 = pd.read_csv('svm_acc_o_lb2.txt', header=None, names=['acc'])\n",
    "data2 = data2['acc'].to_list()\n",
    "print(data2)"
   ]
  },
  {
   "cell_type": "code",
   "execution_count": 11,
   "id": "d89072d9-35b1-44de-9b67-ba1c201c9247",
   "metadata": {},
   "outputs": [
    {
     "data": {
      "image/png": "[encoded data removed]",
      "text/plain": [
       "<Figure size 432x288 with 1 Axes>"
      ]
     },
     "metadata": {},
     "output_type": "display_data"
    }
   ],
   "source": [
    "# label name, acc_term-presence, acc_bow, acc_tfidf\n",
    "data = [['Actual Label', data0[0], data0[1], data0[2]],\n",
    "        ['InSet', data1[0], data1[1], data1[2]],\n",
    "        ['sentistrength_id', data2[0], data2[1], data2[2]]]\n",
    "\n",
    "df2 = pd.DataFrame(data, columns=['', 'term presence', 'BoW', 'TF-IDF'])\n",
    "# print(df2)\n",
    "\n",
    "# plot multiple columns from dataframe\n",
    "sns.set_palette('inferno_r')\n",
    "ax = df2.plot(x='', y=['term presence', 'BoW', 'TF-IDF'], kind='bar')\n",
    "ax.set_ylabel('Accuracy (%)')\n",
    "\n",
    "ax.yaxis.set_ticks(np.arange(0, 110, 5))\n",
    "lgd = ax.legend(loc='lower center', bbox_to_anchor=(0.5,-0.2), borderaxespad=0., ncol=3)\n",
    "plt.xticks(rotation=0, ha='center')\n",
    "\n",
    "## *Note: bbox_extra_artists must be an iterable\n",
    "# plt.savefig('plot3-SVM_oversampled_accuracy_score.png', bbox_extra_artists=(lgd,), bbox_inches='tight')\n",
    "plt.show()"
   ]
  },
  {
   "cell_type": "code",
   "execution_count": null,
   "id": "223fcc3a-df67-4491-ba40-353eeba15a7e",
   "metadata": {},
   "outputs": [],
   "source": []
  },
  {
   "cell_type": "markdown",
   "id": "78523616-0967-4055-8c80-a858539a4227",
   "metadata": {},
   "source": [
    "# Accuration Score (average) for **oversampled** data with **k-Fold cv**\n",
    "> for each **Label** and each following **Extraction Feature** method"
   ]
  },
  {
   "cell_type": "code",
   "execution_count": 12,
   "id": "d961e643-0067-40e9-a9e6-a3fd50cd2e76",
   "metadata": {},
   "outputs": [
    {
     "name": "stdout",
     "output_type": "stream",
     "text": [
      "[0.7680722891566265, 0.7530120481927711, 0.7259036144578314, 0.7108433734939759, 0.677710843373494]\n",
      "[0.7620481927710844, 0.7349397590361446, 0.7108433734939759, 0.677710843373494, 0.6867469879518072]\n",
      "[0.8102409638554217, 0.7951807228915663, 0.7740963855421686, 0.7891566265060241, 0.8072289156626506]\n",
      "[72.71084337349397, 71.44578313253011, 79.51807228915662]\n"
     ]
    }
   ],
   "source": [
    "data00 = pd.read_csv('svm_acc_ov_lb0_tp_kfold.txt', header=None, names=['acc'])\n",
    "data00 = data00['acc'].to_list()\n",
    "print(data00)\n",
    "data00 = sum(data00)/len(data00)*100\n",
    "\n",
    "data01 = pd.read_csv('svm_acc_ov_lb0_bow_kfold.txt', header=None, names=['acc'])\n",
    "data01 = data01['acc'].to_list()\n",
    "print(data01)\n",
    "data01 = sum(data01)/len(data01)*100\n",
    "\n",
    "data02 = pd.read_csv('svm_acc_ov_lb0_tfidf_kfold.txt', header=None, names=['acc'])\n",
    "data02 = data02['acc'].to_list()\n",
    "print(data02)\n",
    "data02 = sum(data02)/len(data02)*100\n",
    "\n",
    "# Combine the averages\n",
    "data0 = [data00, data01, data02]\n",
    "print(data0)"
   ]
  },
  {
   "cell_type": "code",
   "execution_count": 13,
   "id": "c5bd3399-7aba-468f-ada8-3f5388f13fd8",
   "metadata": {},
   "outputs": [
    {
     "name": "stdout",
     "output_type": "stream",
     "text": [
      "[0.5271084337349398, 0.5602409638554217, 0.572289156626506, 0.5331325301204819, 0.5150602409638554]\n",
      "[0.5391566265060241, 0.536144578313253, 0.5542168674698795, 0.5632530120481928, 0.5090361445783133]\n",
      "[0.6054216867469879, 0.5783132530120482, 0.6054216867469879, 0.5692771084337349, 0.5903614457831325]\n",
      "[54.15662650602408, 54.03614457831326, 58.97590361445783]\n"
     ]
    }
   ],
   "source": [
    "data10 = pd.read_csv('svm_acc_ov_lb1_tp_kfold.txt', header=None, names=['acc'])\n",
    "data10 = data10['acc'].to_list()\n",
    "print(data10)\n",
    "data10 = sum(data10)/len(data10)*100\n",
    "\n",
    "data11 = pd.read_csv('svm_acc_ov_lb1_bow_kfold.txt', header=None, names=['acc'])\n",
    "data11 = data11['acc'].to_list()\n",
    "print(data11)\n",
    "data11 = sum(data11)/len(data11)*100\n",
    "\n",
    "data12 = pd.read_csv('svm_acc_ov_lb1_tfidf_kfold.txt', header=None, names=['acc'])\n",
    "data12 = data12['acc'].to_list()\n",
    "print(data12)\n",
    "data12 = sum(data12)/len(data12)*100\n",
    "\n",
    "# Combine the averages\n",
    "data1 = [data10, data11, data12]\n",
    "print(data1)"
   ]
  },
  {
   "cell_type": "code",
   "execution_count": 14,
   "id": "6d217f46-1d99-4515-83cd-b2c165199dab",
   "metadata": {},
   "outputs": [
    {
     "name": "stdout",
     "output_type": "stream",
     "text": [
      "[0.5271084337349398, 0.5692771084337349, 0.5421686746987951, 0.4909638554216867, 0.4698795180722891]\n",
      "[0.5060240963855421, 0.5602409638554217, 0.5512048192771084, 0.4849397590361445, 0.4698795180722891]\n",
      "[0.6295180722891566, 0.6054216867469879, 0.5873493975903614, 0.5632530120481928, 0.5753012048192772]\n",
      "[51.98795180722892, 51.445783132530124, 59.21686746987952]\n"
     ]
    }
   ],
   "source": [
    "data20 = pd.read_csv('svm_acc_ov_lb2_tp_kfold.txt', header=None, names=['acc'])\n",
    "data20 = data20['acc'].to_list()\n",
    "print(data20)\n",
    "data20 = sum(data20)/len(data20)*100\n",
    "\n",
    "data21 = pd.read_csv('svm_acc_ov_lb2_bow_kfold.txt', header=None, names=['acc'])\n",
    "data21 = data21['acc'].to_list()\n",
    "print(data21)\n",
    "data21 = sum(data21)/len(data21)*100\n",
    "\n",
    "data22 = pd.read_csv('svm_acc_ov_lb2_tfidf_kfold.txt', header=None, names=['acc'])\n",
    "data22 = data22['acc'].to_list()\n",
    "print(data22)\n",
    "data22 = sum(data22)/len(data22)*100\n",
    "\n",
    "# Combine the averages\n",
    "data2 = [data20, data21, data22]\n",
    "print(data2)"
   ]
  },
  {
   "cell_type": "markdown",
   "id": "88dd0186-6e37-4059-bdde-c5c891d4d3cb",
   "metadata": {},
   "source": [
    "### **# Make Plot**"
   ]
  },
  {
   "cell_type": "code",
   "execution_count": 15,
   "id": "5b65823b-5c4b-4bd4-b28d-9aa92acfd125",
   "metadata": {},
   "outputs": [
    {
     "name": "stdout",
     "output_type": "stream",
     "text": [
      "                     term presence        BoW     TF-IDF\n",
      "0      Actual Label      72.710843  71.445783  79.518072\n",
      "1             InSet      54.156627  54.036145  58.975904\n",
      "2  sentistrength_id      51.987952  51.445783  59.216867\n"
     ]
    },
    {
     "data": {
      "image/png": "[encoded data removed]",
      "text/plain": [
       "<Figure size 432x288 with 1 Axes>"
      ]
     },
     "metadata": {},
     "output_type": "display_data"
    }
   ],
   "source": [
    "data = [['Actual Label', data0[0], data0[1], data0[2]],\n",
    "        ['InSet', data1[0], data1[1], data1[2]],\n",
    "        ['sentistrength_id', data2[0], data2[1], data2[2]]]\n",
    "\n",
    "df2 = pd.DataFrame(data, columns=['', 'term presence', 'BoW', 'TF-IDF'])\n",
    "print(df2)\n",
    "\n",
    "# plot multiple columns from dataframe\n",
    "sns.set_palette('inferno_r')\n",
    "ax = df2.plot(x='', y=['term presence', 'BoW', 'TF-IDF'], kind='bar')\n",
    "ax.set_ylabel('Accuracy (%)')\n",
    "\n",
    "ax.yaxis.set_ticks(np.arange(0, 110, 5))\n",
    "lgd = ax.legend(loc='lower center', bbox_to_anchor=(0.5,-0.2), borderaxespad=0., ncol=3)\n",
    "plt.xticks(rotation=0, ha='center')\n",
    "\n",
    "## *Note: bbox_extra_artists must be an iterable\n",
    "# plt.savefig('plot4-SVM_oversampled_kfold_avg_accuracy_score.png', bbox_extra_artists=(lgd,), bbox_inches='tight')\n",
    "plt.show()"
   ]
  },
  {
   "cell_type": "code",
   "execution_count": null,
   "id": "0c0a6750-5509-43f7-a323-bed5909c517f",
   "metadata": {},
   "outputs": [],
   "source": []
  },
  {
   "cell_type": "markdown",
   "id": "00b02964-4a0a-40fd-8f9c-3d80c50f6ecb",
   "metadata": {},
   "source": [
    "# Classification report (average) for **oversampled** data with **k-Fold cv**\n",
    "#### Average *precision*, *recall* and *f1-score* for each label and each following **Extraction Feature** method"
   ]
  },
  {
   "cell_type": "markdown",
   "id": "4a4b6d67-ea9c-4114-b6cc-bb8a1889c0d6",
   "metadata": {},
   "source": [
    "### **# Actual Label**"
   ]
  },
  {
   "cell_type": "code",
   "execution_count": 16,
   "id": "cffc7ccf-7c71-4ba0-be37-a3703b280303",
   "metadata": {},
   "outputs": [
    {
     "name": "stdout",
     "output_type": "stream",
     "text": [
      "[67.79273673113202, 77.43760873406421, 72.2177956131472]\n",
      "[66.26143620115359, 77.1448393394803, 71.23661875851568]\n",
      "[79.59702881419435, 74.59132598455567, 76.85839296502058]\n"
     ]
    }
   ],
   "source": [
    "data00 = pd.read_csv('svm_cr_ov_lb0_tp_kfold.txt', header=None, sep='\\t', names=['precision', 'recall', 'f1'])\n",
    "data01 = pd.read_csv('svm_cr_ov_lb0_bow_kfold.txt', header=None, sep='\\t', names=['precision', 'recall', 'f1'])\n",
    "data02 = pd.read_csv('svm_cr_ov_lb0_tfidf_kfold.txt', header=None, sep='\\t', names=['precision', 'recall', 'f1'])\n",
    "\n",
    "### Term presence\n",
    "# Precision Avg.\n",
    "data00_a = data00['precision'].to_list()\n",
    "data00_a = sum(data00_a)/len(data00_a)*100\n",
    "# Recall Avg.\n",
    "data00_b = data00['recall'].to_list()\n",
    "data00_b = sum(data00_b)/len(data00_b)*100\n",
    "# F1-score Avg.\n",
    "data00_c = data00['f1'].to_list()\n",
    "data00_c = sum(data00_c)/len(data00_c)*100\n",
    "# Combine the values\n",
    "data00 = [data00_a, data00_b, data00_c]\n",
    "print(data00)\n",
    "\n",
    "### BoW\n",
    "# Precision Avg.\n",
    "data01_a = data01['precision'].to_list()\n",
    "data01_a = sum(data01_a)/len(data01_a)*100\n",
    "# Recall Avg.\n",
    "data01_b = data01['recall'].to_list()\n",
    "data01_b = sum(data01_b)/len(data01_b)*100\n",
    "# F1-score Avg.\n",
    "data01_c = data01['f1'].to_list()\n",
    "data01_c = sum(data01_c)/len(data01_c)*100\n",
    "# Combine the values\n",
    "data01 = [data01_a, data01_b, data01_c]\n",
    "print(data01)\n",
    "\n",
    "### TF-IDF\n",
    "# Precision Avg.\n",
    "data02_a = data02['precision'].to_list()\n",
    "data02_a = sum(data02_a)/len(data02_a)*100\n",
    "# Recall Avg.\n",
    "data02_b = data02['recall'].to_list()\n",
    "data02_b = sum(data02_b)/len(data02_b)*100\n",
    "# F1-score Avg.\n",
    "data02_c = data02['f1'].to_list()\n",
    "data02_c = sum(data02_c)/len(data02_c)*100\n",
    "# Combine the values\n",
    "data02 = [data02_a, data02_b, data02_c]\n",
    "print(data02)"
   ]
  },
  {
   "cell_type": "code",
   "execution_count": 17,
   "id": "4b530ef2-cacc-4d8b-a37a-0ea5d943fe0a",
   "metadata": {},
   "outputs": [
    {
     "name": "stdout",
     "output_type": "stream",
     "text": [
      "                  precision     recall  f-measure\n",
      "0  term presence  67.792737  77.437609  72.217796\n",
      "1            BoW  66.261436  77.144839  71.236619\n",
      "2         TF-IDF  79.597029  74.591326  76.858393\n"
     ]
    },
    {
     "data": {
      "image/png": "[encoded data removed]",
      "text/plain": [
       "<Figure size 432x288 with 1 Axes>"
      ]
     },
     "metadata": {},
     "output_type": "display_data"
    }
   ],
   "source": [
    "data = [['term presence', data00[0], data00[1], data00[2]],\n",
    "        ['BoW', data01[0], data01[1], data01[2]],\n",
    "        ['TF-IDF', data02[0], data02[1], data02[2]]]\n",
    "\n",
    "dfx = pd.DataFrame(data, columns=['', 'precision', 'recall', 'f-measure'])\n",
    "print(dfx)\n",
    "\n",
    "# plot multiple columns from dataframe\n",
    "sns.set_palette('ocean',3)\n",
    "ax = dfx.plot(x='', y=['precision', 'recall', 'f-measure'], kind='bar')\n",
    "ax.set_ylabel('%')\n",
    "\n",
    "ax.yaxis.set_ticks(np.arange(0, 90, 5))\n",
    "lgd = ax.legend(loc='lower center', bbox_to_anchor=(0.5,-0.2), borderaxespad=0., ncol=3)\n",
    "plt.xticks(rotation=0, ha='center')\n",
    "\n",
    "## *Note: bbox_extra_artists must be an iterable\n",
    "# plt.savefig('plot5a-SVM_oversampled_kfold_avg_cr_actual.png', bbox_extra_artists=(lgd,), bbox_inches='tight')\n",
    "plt.show()"
   ]
  },
  {
   "cell_type": "code",
   "execution_count": null,
   "id": "0cf0a7cd-50e4-46fd-9431-21904efb4540",
   "metadata": {},
   "outputs": [],
   "source": []
  },
  {
   "cell_type": "markdown",
   "id": "31e29745-10ee-4baf-b62f-ff58fe9a8bda",
   "metadata": {},
   "source": [
    "### **# InSet**"
   ]
  },
  {
   "cell_type": "code",
   "execution_count": 18,
   "id": "8140ef78-6c3c-4b69-839f-1e284558da23",
   "metadata": {},
   "outputs": [
    {
     "name": "stdout",
     "output_type": "stream",
     "text": [
      "[49.72927913515899, 36.83634904026177, 42.270729526583736]\n",
      "[49.58372241147514, 36.76956709426045, 42.17327905596532]\n",
      "[62.24704633139705, 26.070425296968182, 36.64984010957403]\n"
     ]
    }
   ],
   "source": [
    "data00 = pd.read_csv('svm_cr_ov_lb1_tp_kfold.txt', header=None, sep='\\t', names=['precision', 'recall', 'f1'])\n",
    "data01 = pd.read_csv('svm_cr_ov_lb1_bow_kfold.txt', header=None, sep='\\t', names=['precision', 'recall', 'f1'])\n",
    "data02 = pd.read_csv('svm_cr_ov_lb1_tfidf_kfold.txt', header=None, sep='\\t', names=['precision', 'recall', 'f1'])\n",
    "\n",
    "### Term presence\n",
    "# Precision Avg.\n",
    "data00_a = data00['precision'].to_list()\n",
    "data00_a = sum(data00_a)/len(data00_a)*100\n",
    "# Recall Avg.\n",
    "data00_b = data00['recall'].to_list()\n",
    "data00_b = sum(data00_b)/len(data00_b)*100\n",
    "# F1-score Avg.\n",
    "data00_c = data00['f1'].to_list()\n",
    "data00_c = sum(data00_c)/len(data00_c)*100\n",
    "# Combine the values\n",
    "data00 = [data00_a, data00_b, data00_c]\n",
    "print(data00)\n",
    "\n",
    "### BoW\n",
    "# Precision Avg.\n",
    "data01_a = data01['precision'].to_list()\n",
    "data01_a = sum(data01_a)/len(data01_a)*100\n",
    "# Recall Avg.\n",
    "data01_b = data01['recall'].to_list()\n",
    "data01_b = sum(data01_b)/len(data01_b)*100\n",
    "# F1-score Avg.\n",
    "data01_c = data01['f1'].to_list()\n",
    "data01_c = sum(data01_c)/len(data01_c)*100\n",
    "# Combine the values\n",
    "data01 = [data01_a, data01_b, data01_c]\n",
    "print(data01)\n",
    "\n",
    "### TF-IDF\n",
    "# Precision Avg.\n",
    "data02_a = data02['precision'].to_list()\n",
    "data02_a = sum(data02_a)/len(data02_a)*100\n",
    "# Recall Avg.\n",
    "data02_b = data02['recall'].to_list()\n",
    "data02_b = sum(data02_b)/len(data02_b)*100\n",
    "# F1-score Avg.\n",
    "data02_c = data02['f1'].to_list()\n",
    "data02_c = sum(data02_c)/len(data02_c)*100\n",
    "# Combine the values\n",
    "data02 = [data02_a, data02_b, data02_c]\n",
    "print(data02)"
   ]
  },
  {
   "cell_type": "code",
   "execution_count": 19,
   "id": "1e9af048-56ec-47a5-98c2-39d5dd8d171e",
   "metadata": {},
   "outputs": [
    {
     "name": "stdout",
     "output_type": "stream",
     "text": [
      "                  precision     recall  f-measure\n",
      "0  term presence  49.729279  36.836349  42.270730\n",
      "1            BoW  49.583722  36.769567  42.173279\n",
      "2         TF-IDF  62.247046  26.070425  36.649840\n"
     ]
    },
    {
     "data": {
      "image/png": "[encoded data removed]",
      "text/plain": [
       "<Figure size 432x288 with 1 Axes>"
      ]
     },
     "metadata": {},
     "output_type": "display_data"
    }
   ],
   "source": [
    "data = [['term presence', data00[0], data00[1], data00[2]],\n",
    "        ['BoW', data01[0], data01[1], data01[2]],\n",
    "        ['TF-IDF', data02[0], data02[1], data02[2]]]\n",
    "\n",
    "dfx = pd.DataFrame(data, columns=['', 'precision', 'recall', 'f-measure'])\n",
    "print(dfx)\n",
    "\n",
    "# plot multiple columns from dataframe\n",
    "sns.set_palette('ocean',3)\n",
    "ax = dfx.plot(x='', y=['precision', 'recall', 'f-measure'], kind='bar')\n",
    "ax.set_ylabel('%')\n",
    "\n",
    "ax.yaxis.set_ticks(np.arange(0, 90, 5))\n",
    "lgd = ax.legend(loc='lower center', bbox_to_anchor=(0.5,-0.2), borderaxespad=0., ncol=3)\n",
    "plt.xticks(rotation=0, ha='center')\n",
    "\n",
    "## *Note: bbox_extra_artists must be an iterable\n",
    "# plt.savefig('plot5b-SVM_oversampled_kfold_avg_cr_inset.png', bbox_extra_artists=(lgd,), bbox_inches='tight')\n",
    "plt.show()"
   ]
  },
  {
   "cell_type": "code",
   "execution_count": null,
   "id": "a7e009b6-f53f-4c29-9757-6b13d27fd59e",
   "metadata": {},
   "outputs": [],
   "source": []
  },
  {
   "cell_type": "markdown",
   "id": "bafef8d7-7c9b-44c7-bfd4-698d874c28fd",
   "metadata": {},
   "source": [
    "### **# sentistrength_id**"
   ]
  },
  {
   "cell_type": "code",
   "execution_count": 20,
   "id": "a22aaf70-bce3-4e7c-a4bb-be9095d4459b",
   "metadata": {},
   "outputs": [
    {
     "name": "stdout",
     "output_type": "stream",
     "text": [
      "[47.091133057668486, 41.72162786468248, 44.20512215069241]\n",
      "[46.712957751678594, 41.70040990977343, 43.96095787976442]\n",
      "[61.0634051382808, 31.30804943117214, 41.01395619384573]\n"
     ]
    }
   ],
   "source": [
    "data00 = pd.read_csv('svm_cr_ov_lb2_tp_kfold.txt', header=None, sep='\\t', names=['precision', 'recall', 'f1'])\n",
    "data01 = pd.read_csv('svm_cr_ov_lb2_bow_kfold.txt', header=None, sep='\\t', names=['precision', 'recall', 'f1'])\n",
    "data02 = pd.read_csv('svm_cr_ov_lb2_tfidf_kfold.txt', header=None, sep='\\t', names=['precision', 'recall', 'f1'])\n",
    "\n",
    "### Term presence\n",
    "# Precision Avg.\n",
    "data00_a = data00['precision'].to_list()\n",
    "data00_a = sum(data00_a)/len(data00_a)*100\n",
    "# Recall Avg.\n",
    "data00_b = data00['recall'].to_list()\n",
    "data00_b = sum(data00_b)/len(data00_b)*100\n",
    "# F1-score Avg.\n",
    "data00_c = data00['f1'].to_list()\n",
    "data00_c = sum(data00_c)/len(data00_c)*100\n",
    "# Combine the values\n",
    "data00 = [data00_a, data00_b, data00_c]\n",
    "print(data00)\n",
    "\n",
    "### BoW\n",
    "# Precision Avg.\n",
    "data01_a = data01['precision'].to_list()\n",
    "data01_a = sum(data01_a)/len(data01_a)*100\n",
    "# Recall Avg.\n",
    "data01_b = data01['recall'].to_list()\n",
    "data01_b = sum(data01_b)/len(data01_b)*100\n",
    "# F1-score Avg.\n",
    "data01_c = data01['f1'].to_list()\n",
    "data01_c = sum(data01_c)/len(data01_c)*100\n",
    "# Combine the values\n",
    "data01 = [data01_a, data01_b, data01_c]\n",
    "print(data01)\n",
    "\n",
    "### TF-IDF\n",
    "# Precision Avg.\n",
    "data02_a = data02['precision'].to_list()\n",
    "data02_a = sum(data02_a)/len(data02_a)*100\n",
    "# Recall Avg.\n",
    "data02_b = data02['recall'].to_list()\n",
    "data02_b = sum(data02_b)/len(data02_b)*100\n",
    "# F1-score Avg.\n",
    "data02_c = data02['f1'].to_list()\n",
    "data02_c = sum(data02_c)/len(data02_c)*100\n",
    "# Combine the values\n",
    "data02 = [data02_a, data02_b, data02_c]\n",
    "print(data02)"
   ]
  },
  {
   "cell_type": "code",
   "execution_count": 21,
   "id": "97d3c35d-d6b7-4314-9bc9-fa9156c80376",
   "metadata": {},
   "outputs": [
    {
     "name": "stdout",
     "output_type": "stream",
     "text": [
      "                  precision     recall  f-measure\n",
      "0  term presence  47.091133  41.721628  44.205122\n",
      "1            BoW  46.712958  41.700410  43.960958\n",
      "2         TF-IDF  61.063405  31.308049  41.013956\n"
     ]
    },
    {
     "data": {
      "image/png": "[encoded data removed]",
      "text/plain": [
       "<Figure size 432x288 with 1 Axes>"
      ]
     },
     "metadata": {},
     "output_type": "display_data"
    }
   ],
   "source": [
    "data = [['term presence', data00[0], data00[1], data00[2]],\n",
    "        ['BoW', data01[0], data01[1], data01[2]],\n",
    "        ['TF-IDF', data02[0], data02[1], data02[2]]]\n",
    "\n",
    "dfx = pd.DataFrame(data, columns=['', 'precision', 'recall', 'f-measure'])\n",
    "print(dfx)\n",
    "\n",
    "# plot multiple columns from dataframe\n",
    "sns.set_palette('ocean',3)\n",
    "ax = dfx.plot(x='', y=['precision', 'recall', 'f-measure'], kind='bar')\n",
    "ax.set_ylabel('%')\n",
    "\n",
    "ax.yaxis.set_ticks(np.arange(0, 90, 5))\n",
    "lgd = ax.legend(loc='lower center', bbox_to_anchor=(0.5,-0.2), borderaxespad=0., ncol=3)\n",
    "plt.xticks(rotation=0, ha='center')\n",
    "\n",
    "## *Note: bbox_extra_artists must be an iterable\n",
    "# plt.savefig('plot5c-SVM_oversampled_kfold_avg_cr_senti.png', bbox_extra_artists=(lgd,), bbox_inches='tight')\n",
    "plt.show()"
   ]
  },
  {
   "cell_type": "code",
   "execution_count": null,
   "id": "b1157b36-c8af-4b25-a746-bb103a8289e4",
   "metadata": {},
   "outputs": [],
   "source": []
  }
 ],
 "metadata": {
  "kernelspec": {
   "display_name": "Python 3",
   "language": "python",
   "name": "python3"
  },
  "language_info": {
   "codemirror_mode": {
    "name": "ipython",
    "version": 3
   },
   "file_extension": ".py",
   "mimetype": "text/x-python",
   "name": "python",
   "nbconvert_exporter": "python",
   "pygments_lexer": "ipython3",
   "version": "3.8.5"
  }
 },
 "nbformat": 4,
 "nbformat_minor": 5
}
